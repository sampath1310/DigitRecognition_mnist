{
 "cells": [
  {
   "cell_type": "code",
   "execution_count": 1,
   "metadata": {
    "collapsed": false,
    "deletable": true,
    "editable": true
   },
   "outputs": [
    {
     "name": "stderr",
     "output_type": "stream",
     "text": [
      "Using TensorFlow backend.\n"
     ]
    }
   ],
   "source": [
    "import numpy as np\n",
    "import pandas as pd\n",
    "from keras.datasets import mnist\n",
    "from keras.models import Sequential\n",
    "from keras.layers import Dense\n",
    "from keras.layers import Dropout\n",
    "from keras.layers import Flatten\n",
    "from keras.layers.convolutional import Convolution2D\n",
    "from keras.layers.convolutional import MaxPooling2D\n",
    "from keras.utils import np_utils\n",
    "from keras import backend as K\n",
    "K.set_image_dim_ordering('th')\n",
    "seed = 7\n",
    "np.random.seed(seed)\n",
    "train = pd.read_csv('train.csv')\n",
    "test = pd.read_csv('test.csv')\n",
    "target = train.label\n",
    "train.drop(['label'],axis=1,inplace=True)\n",
    "train = train/255\n",
    "test = test/255\n",
    "train = train.values\n",
    "test = test.values\n",
    "target = np_utils.to_categorical(target)\n",
    "train = train.reshape(train.shape[0], 1, 28, 28).astype('float32')\n",
    "test = test.reshape(test.shape[0], 1, 28, 28).astype('float32')\n",
    "num_classes = target.shape[1]\n",
    "num_pixels = 784"
   ]
  },
  {
   "cell_type": "code",
   "execution_count": 4,
   "metadata": {
    "collapsed": true,
    "deletable": true,
    "editable": true
   },
   "outputs": [],
   "source": [
    "def baseline_model():\n",
    "\t# create model\n",
    "\tmodel = Sequential()\n",
    "\tmodel.add(Convolution2D(60, 3, 3, border_mode='valid', input_shape=(1, 28, 28), activation='relu'))\n",
    "\tmodel.add(MaxPooling2D(pool_size=(2, 2)))\n",
    "\tmodel.add(Convolution2D(70, 5, 5, activation='relu'))\n",
    "\tmodel.add(MaxPooling2D(pool_size=(2, 2)))\n",
    "\tmodel.add(Dropout(0.2))\n",
    "\tmodel.add(Flatten())\n",
    "\tmodel.add(Dense(128, activation='relu'))\n",
    "\tmodel.add(Dense(num_classes, activation='softmax'))\n",
    "\t# Compile model\n",
    "\tmodel.compile(loss='categorical_crossentropy', optimizer='adam', metrics=['accuracy'])\n",
    "\treturn model"
   ]
  },
  {
   "cell_type": "code",
   "execution_count": 5,
   "metadata": {
    "collapsed": false,
    "deletable": true,
    "editable": true
   },
   "outputs": [
    {
     "name": "stdout",
     "output_type": "stream",
     "text": [
      "Epoch 1/10\n",
      "301s - loss: 0.3024 - acc: 0.9123\n",
      "Epoch 2/10\n",
      "300s - loss: 0.0741 - acc: 0.9770\n",
      "Epoch 3/10\n",
      "300s - loss: 0.0482 - acc: 0.9855\n",
      "Epoch 4/10\n",
      "300s - loss: 0.0380 - acc: 0.9877\n",
      "Epoch 5/10\n",
      "300s - loss: 0.0307 - acc: 0.9902\n",
      "Epoch 6/10\n",
      "300s - loss: 0.0246 - acc: 0.9919\n",
      "Epoch 7/10\n",
      "300s - loss: 0.0208 - acc: 0.9929\n",
      "Epoch 8/10\n",
      "300s - loss: 0.0191 - acc: 0.9937\n",
      "Epoch 9/10\n",
      "300s - loss: 0.0155 - acc: 0.9954\n",
      "Epoch 10/10\n",
      "300s - loss: 0.0136 - acc: 0.9956\n",
      "Baseline Error: 0.20%\n"
     ]
    }
   ],
   "source": [
    "model = baseline_model()\n",
    "# Fit the model\n",
    "model.fit(train, target,  nb_epoch=10, batch_size=200, verbose=2)\n",
    "# Final evaluation of the model\n",
    "scores = model.evaluate(train, target, verbose=0)\n",
    "print(\"Baseline Error: %.2f%%\" % (100-scores[1]*100))"
   ]
  },
  {
   "cell_type": "code",
   "execution_count": 7,
   "metadata": {
    "collapsed": true,
    "deletable": true,
    "editable": true
   },
   "outputs": [],
   "source": []
  },
  {
   "cell_type": "code",
   "execution_count": 10,
   "metadata": {
    "collapsed": false,
    "deletable": true,
    "editable": true
   },
   "outputs": [],
   "source": []
  },
  {
   "cell_type": "code",
   "execution_count": 11,
   "metadata": {
    "collapsed": true,
    "deletable": true,
    "editable": true
   },
   "outputs": [],
   "source": [
    "yPred = model.predict(test, batch_size=200, verbose=0)\n",
    "y_index = np.argmax(yPred,axis=1)\n",
    "with open('conv3l3m_out.csv', 'w') as f :\n",
    "    f.write('ImageId,Label\\n')\n",
    "    for i in range(0,len(test)) :\n",
    "        f.write(\"\".join([str(i+1),',',str(y_index[i]),'\\n']))"
   ]
  },
  {
   "cell_type": "code",
   "execution_count": 12,
   "metadata": {
    "collapsed": true,
    "deletable": true,
    "editable": true
   },
   "outputs": [],
   "source": [
    "#0.99043"
   ]
  }
 ],
 "metadata": {
  "kernelspec": {
   "display_name": "Python 2",
   "language": "python",
   "name": "python2"
  },
  "language_info": {
   "codemirror_mode": {
    "name": "ipython",
    "version": 2
   },
   "file_extension": ".py",
   "mimetype": "text/x-python",
   "name": "python",
   "nbconvert_exporter": "python",
   "pygments_lexer": "ipython2",
   "version": "2.7.13"
  }
 },
 "nbformat": 4,
 "nbformat_minor": 2
}
